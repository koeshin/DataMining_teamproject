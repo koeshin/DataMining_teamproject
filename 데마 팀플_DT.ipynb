{
 "cells": [
  {
   "cell_type": "code",
   "execution_count": 112,
   "id": "b9f4b60c",
   "metadata": {
    "scrolled": true
   },
   "outputs": [],
   "source": [
    "import numpy as np\n",
    "import pandas as pd\n",
    "import mglearn\n",
    "from sklearn.tree import DecisionTreeClassifier"
   ]
  },
  {
   "cell_type": "markdown",
   "id": "5b995a4f",
   "metadata": {},
   "source": [
    "#### 데이터 불러오기"
   ]
  },
  {
   "cell_type": "code",
   "execution_count": 113,
   "id": "01960f86",
   "metadata": {
    "scrolled": true
   },
   "outputs": [],
   "source": [
    "dataset=pd.read_csv(\"18-21데이터통합.csv\",encoding='cp949')"
   ]
  },
  {
   "cell_type": "markdown",
   "id": "064da308",
   "metadata": {},
   "source": [
    "#### 변수"
   ]
  },
  {
   "cell_type": "code",
   "execution_count": 114,
   "id": "ee66af3f",
   "metadata": {},
   "outputs": [
    {
     "name": "stdout",
     "output_type": "stream",
     "text": [
      "Keys of iris_dataset:\n",
      " Index(['movie title', ' Daudience ', ' A1audience ', ' A2audience ',\n",
      "       ' Dscreen ', ' A1screen ', ' A2screen ', ' Nationality ', ' Grade ',\n",
      "       ' Season ', ' Month ', ' Actscore ', ' social distancing ', ' labels '],\n",
      "      dtype='object')\n"
     ]
    }
   ],
   "source": [
    "print(\"Keys of iris_dataset:\\n\", dataset.keys())"
   ]
  },
  {
   "cell_type": "code",
   "execution_count": 115,
   "id": "1b3b3049",
   "metadata": {},
   "outputs": [],
   "source": [
    "from sklearn.model_selection import train_test_split\n",
    "X_train, X_test, y_train, y_test = train_test_split(\n",
    "    dataset[[' Daudience ', ' A1audience ', ' Dscreen ', ' A1screen ', ' A2screen ', ' Nationality ', ' Grade ', ' Season ', ' Month ', ' Actscore ', ' social distancing ']], dataset[' labels '], test_size=0.2, random_state=45)"
   ]
  },
  {
   "cell_type": "markdown",
   "id": "7e3fd682",
   "metadata": {},
   "source": [
    "#### 데이터 split"
   ]
  },
  {
   "cell_type": "code",
   "execution_count": 116,
   "id": "706a6afb",
   "metadata": {},
   "outputs": [
    {
     "name": "stdout",
     "output_type": "stream",
     "text": [
      "X_train shape: (124, 11)\n",
      "y_train shape: (124,)\n"
     ]
    }
   ],
   "source": [
    "print(\"X_train shape:\", X_train.shape)\n",
    "print(\"y_train shape:\", y_train.shape)"
   ]
  },
  {
   "cell_type": "code",
   "execution_count": 117,
   "id": "9db6d588",
   "metadata": {},
   "outputs": [
    {
     "name": "stdout",
     "output_type": "stream",
     "text": [
      "X_train shape: (124, 11)\n",
      "y_train shape: (124,)\n"
     ]
    }
   ],
   "source": [
    "print(\"X_train shape:\", X_train.shape)\n",
    "print(\"y_train shape:\", y_train.shape)"
   ]
  },
  {
   "cell_type": "code",
   "execution_count": 118,
   "id": "8ecfc1e3",
   "metadata": {},
   "outputs": [
    {
     "name": "stdout",
     "output_type": "stream",
     "text": [
      "X_train shape: (124, 11)\n",
      "y_train shape: (124,)\n"
     ]
    }
   ],
   "source": [
    "print(\"X_train shape:\", X_train.shape)\n",
    "print(\"y_train shape:\", y_train.shape)"
   ]
  },
  {
   "cell_type": "markdown",
   "id": "2062302f",
   "metadata": {},
   "source": [
    "#### 모델 생성"
   ]
  },
  {
   "cell_type": "code",
   "execution_count": 119,
   "id": "7f2199db",
   "metadata": {},
   "outputs": [
    {
     "data": {
      "text/plain": [
       "DecisionTreeClassifier(random_state=0)"
      ]
     },
     "execution_count": 119,
     "metadata": {},
     "output_type": "execute_result"
    }
   ],
   "source": [
    "clf = DecisionTreeClassifier(random_state=0)\n",
    "clf.fit(X_train, y_train)"
   ]
  },
  {
   "cell_type": "code",
   "execution_count": 120,
   "id": "a30e55cc",
   "metadata": {},
   "outputs": [],
   "source": [
    "y_train_hat = clf.predict(X_train)\n",
    "y_test_hat = clf.predict(X_test)"
   ]
  },
  {
   "cell_type": "markdown",
   "id": "224d6e0c",
   "metadata": {},
   "source": [
    "#### 성능 확인"
   ]
  },
  {
   "cell_type": "code",
   "execution_count": 121,
   "id": "7e590359",
   "metadata": {},
   "outputs": [
    {
     "name": "stdout",
     "output_type": "stream",
     "text": [
      "Accuracy on training set:  1.0\n",
      "Accuracy on testing set:  0.7419354838709677\n"
     ]
    }
   ],
   "source": [
    "from sklearn.metrics import accuracy_score\n",
    "print(\"Accuracy on training set: \", accuracy_score(y_train, y_train_hat))\n",
    "print(\"Accuracy on testing set: \", accuracy_score(y_test, y_test_hat))"
   ]
  },
  {
   "cell_type": "markdown",
   "id": "46f7881d",
   "metadata": {},
   "source": [
    "#### 최적의 가짓수 확인하기"
   ]
  },
  {
   "cell_type": "code",
   "execution_count": 122,
   "id": "4394d9ed",
   "metadata": {},
   "outputs": [],
   "source": [
    "training_accuracy = []\n",
    "test_accuracy = []\n",
    "\n",
    "msl_settings = [2, 3, 4, 5, 6,10,40]\n",
    "for msl in msl_settings:\n",
    "    clf = DecisionTreeClassifier(min_samples_leaf= msl, random_state=0)\n",
    "    clf.fit(X_train, y_train)\n",
    "\n",
    "    y_train_hat = clf.predict(X_train)\n",
    "    y_test_hat = clf.predict(X_test)\n",
    "   \n",
    "    training_accuracy.append(accuracy_score(y_train, y_train_hat))\n",
    "    test_accuracy.append(accuracy_score(y_test, y_test_hat))"
   ]
  },
  {
   "cell_type": "code",
   "execution_count": 123,
   "id": "07d5918b",
   "metadata": {},
   "outputs": [],
   "source": [
    "result = pd.DataFrame({\"min_samples_leaf\":msl_settings, \"training accuracy\": training_accuracy, \"test accuracy\": test_accuracy})"
   ]
  },
  {
   "cell_type": "code",
   "execution_count": 124,
   "id": "5642c0db",
   "metadata": {},
   "outputs": [
    {
     "data": {
      "text/html": [
       "<div>\n",
       "<style scoped>\n",
       "    .dataframe tbody tr th:only-of-type {\n",
       "        vertical-align: middle;\n",
       "    }\n",
       "\n",
       "    .dataframe tbody tr th {\n",
       "        vertical-align: top;\n",
       "    }\n",
       "\n",
       "    .dataframe thead th {\n",
       "        text-align: right;\n",
       "    }\n",
       "</style>\n",
       "<table border=\"1\" class=\"dataframe\">\n",
       "  <thead>\n",
       "    <tr style=\"text-align: right;\">\n",
       "      <th></th>\n",
       "      <th>min_samples_leaf</th>\n",
       "      <th>training accuracy</th>\n",
       "      <th>test accuracy</th>\n",
       "    </tr>\n",
       "  </thead>\n",
       "  <tbody>\n",
       "    <tr>\n",
       "      <th>0</th>\n",
       "      <td>2</td>\n",
       "      <td>0.919355</td>\n",
       "      <td>0.774194</td>\n",
       "    </tr>\n",
       "    <tr>\n",
       "      <th>1</th>\n",
       "      <td>3</td>\n",
       "      <td>0.854839</td>\n",
       "      <td>0.741935</td>\n",
       "    </tr>\n",
       "    <tr>\n",
       "      <th>2</th>\n",
       "      <td>4</td>\n",
       "      <td>0.814516</td>\n",
       "      <td>0.774194</td>\n",
       "    </tr>\n",
       "    <tr>\n",
       "      <th>3</th>\n",
       "      <td>5</td>\n",
       "      <td>0.790323</td>\n",
       "      <td>0.709677</td>\n",
       "    </tr>\n",
       "    <tr>\n",
       "      <th>4</th>\n",
       "      <td>6</td>\n",
       "      <td>0.782258</td>\n",
       "      <td>0.774194</td>\n",
       "    </tr>\n",
       "    <tr>\n",
       "      <th>5</th>\n",
       "      <td>10</td>\n",
       "      <td>0.725806</td>\n",
       "      <td>0.806452</td>\n",
       "    </tr>\n",
       "    <tr>\n",
       "      <th>6</th>\n",
       "      <td>40</td>\n",
       "      <td>0.459677</td>\n",
       "      <td>0.516129</td>\n",
       "    </tr>\n",
       "  </tbody>\n",
       "</table>\n",
       "</div>"
      ],
      "text/plain": [
       "   min_samples_leaf  training accuracy  test accuracy\n",
       "0                 2           0.919355       0.774194\n",
       "1                 3           0.854839       0.741935\n",
       "2                 4           0.814516       0.774194\n",
       "3                 5           0.790323       0.709677\n",
       "4                 6           0.782258       0.774194\n",
       "5                10           0.725806       0.806452\n",
       "6                40           0.459677       0.516129"
      ]
     },
     "execution_count": 124,
     "metadata": {},
     "output_type": "execute_result"
    }
   ],
   "source": [
    "result"
   ]
  },
  {
   "cell_type": "markdown",
   "id": "fe1c3ce1",
   "metadata": {},
   "source": [
    "#### 가지치기를 포함하여 모델 생성"
   ]
  },
  {
   "cell_type": "code",
   "execution_count": 125,
   "id": "ae7c58d1",
   "metadata": {},
   "outputs": [
    {
     "data": {
      "text/plain": [
       "DecisionTreeClassifier(min_samples_leaf=4, random_state=0)"
      ]
     },
     "execution_count": 125,
     "metadata": {},
     "output_type": "execute_result"
    }
   ],
   "source": [
    "clf = DecisionTreeClassifier(min_samples_leaf= 4, random_state=0)\n",
    "clf.fit(X_train, y_train)"
   ]
  },
  {
   "cell_type": "code",
   "execution_count": 126,
   "id": "20ec4892",
   "metadata": {},
   "outputs": [
    {
     "data": {
      "text/plain": [
       "[Text(148.0846153846154, 203.85, 'X[1] <= 1068246.0\\ngini = 0.77\\nsamples = 124\\nvalue = [16, 46, 24, 21, 10, 7]'),\n",
       " Text(64.38461538461539, 176.67000000000002, 'X[1] <= 561420.0\\ngini = 0.541\\nsamples = 60\\nvalue = [16, 37, 5, 1, 0, 1]'),\n",
       " Text(38.63076923076923, 149.49, 'X[4] <= 1099.0\\ngini = 0.381\\nsamples = 21\\nvalue = [16, 4, 1, 0, 0, 0]'),\n",
       " Text(25.753846153846155, 122.31, 'X[6] <= 13.5\\ngini = 0.208\\nsamples = 17\\nvalue = [15, 2, 0, 0, 0, 0]'),\n",
       " Text(12.876923076923077, 95.13, 'gini = 0.444\\nsamples = 6\\nvalue = [4, 2, 0, 0, 0, 0]'),\n",
       " Text(38.63076923076923, 95.13, 'gini = 0.0\\nsamples = 11\\nvalue = [11, 0, 0, 0, 0, 0]'),\n",
       " Text(51.50769230769231, 122.31, 'gini = 0.625\\nsamples = 4\\nvalue = [1, 2, 1, 0, 0, 0]'),\n",
       " Text(90.13846153846154, 149.49, 'X[4] <= 724.5\\ngini = 0.272\\nsamples = 39\\nvalue = [0, 33, 4, 1, 0, 1]'),\n",
       " Text(77.26153846153846, 122.31, 'gini = 0.0\\nsamples = 20\\nvalue = [0, 20, 0, 0, 0, 0]'),\n",
       " Text(103.01538461538462, 122.31, 'X[9] <= 3.5\\ngini = 0.482\\nsamples = 19\\nvalue = [0, 13, 4, 1, 0, 1]'),\n",
       " Text(90.13846153846154, 95.13, 'gini = 0.625\\nsamples = 4\\nvalue = [0, 1, 2, 0, 0, 1]'),\n",
       " Text(115.8923076923077, 95.13, 'X[0] <= 114703.0\\ngini = 0.338\\nsamples = 15\\nvalue = [0, 12, 2, 1, 0, 0]'),\n",
       " Text(103.01538461538462, 67.94999999999999, 'gini = 0.0\\nsamples = 8\\nvalue = [0, 8, 0, 0, 0, 0]'),\n",
       " Text(128.76923076923077, 67.94999999999999, 'gini = 0.571\\nsamples = 7\\nvalue = [0, 4, 2, 1, 0, 0]'),\n",
       " Text(231.7846153846154, 176.67000000000002, 'X[1] <= 1849620.5\\ngini = 0.761\\nsamples = 64\\nvalue = [0, 9, 19, 20, 10, 6]'),\n",
       " Text(180.27692307692308, 149.49, 'X[4] <= 638.5\\ngini = 0.643\\nsamples = 39\\nvalue = [0, 9, 19, 10, 0, 1]'),\n",
       " Text(154.52307692307693, 122.31, 'X[9] <= 6.5\\ngini = 0.521\\nsamples = 13\\nvalue = [0, 8, 4, 1, 0, 0]'),\n",
       " Text(141.64615384615385, 95.13, 'gini = 0.571\\nsamples = 7\\nvalue = [0, 2, 4, 1, 0, 0]'),\n",
       " Text(167.4, 95.13, 'gini = 0.0\\nsamples = 6\\nvalue = [0, 6, 0, 0, 0, 0]'),\n",
       " Text(206.03076923076924, 122.31, 'X[4] <= 774.5\\ngini = 0.544\\nsamples = 26\\nvalue = [0, 1, 15, 9, 0, 1]'),\n",
       " Text(193.15384615384616, 95.13, 'gini = 0.571\\nsamples = 7\\nvalue = [0, 1, 2, 4, 0, 0]'),\n",
       " Text(218.90769230769232, 95.13, 'X[1] <= 1589704.0\\ngini = 0.46\\nsamples = 19\\nvalue = [0, 0, 13, 5, 0, 1]'),\n",
       " Text(206.03076923076924, 67.94999999999999, 'X[7] <= 3.5\\ngini = 0.338\\nsamples = 15\\nvalue = [0, 0, 12, 2, 0, 1]'),\n",
       " Text(193.15384615384616, 40.77000000000001, 'X[3] <= 999.5\\ngini = 0.531\\nsamples = 8\\nvalue = [0, 0, 5, 2, 0, 1]'),\n",
       " Text(180.27692307692308, 13.590000000000003, 'gini = 0.0\\nsamples = 4\\nvalue = [0, 0, 4, 0, 0, 0]'),\n",
       " Text(206.03076923076924, 13.590000000000003, 'gini = 0.625\\nsamples = 4\\nvalue = [0, 0, 1, 2, 0, 1]'),\n",
       " Text(218.90769230769232, 40.77000000000001, 'gini = 0.0\\nsamples = 7\\nvalue = [0, 0, 7, 0, 0, 0]'),\n",
       " Text(231.7846153846154, 67.94999999999999, 'gini = 0.375\\nsamples = 4\\nvalue = [0, 0, 1, 3, 0, 0]'),\n",
       " Text(283.2923076923077, 149.49, 'X[1] <= 2687448.0\\ngini = 0.64\\nsamples = 25\\nvalue = [0, 0, 0, 10, 10, 5]'),\n",
       " Text(257.53846153846155, 122.31, 'X[2] <= 1130.5\\ngini = 0.298\\nsamples = 11\\nvalue = [0, 0, 0, 9, 2, 0]'),\n",
       " Text(244.66153846153847, 95.13, 'gini = 0.5\\nsamples = 4\\nvalue = [0, 0, 0, 2, 2, 0]'),\n",
       " Text(270.4153846153846, 95.13, 'gini = 0.0\\nsamples = 7\\nvalue = [0, 0, 0, 7, 0, 0]'),\n",
       " Text(309.04615384615386, 122.31, 'X[1] <= 3820928.0\\ngini = 0.541\\nsamples = 14\\nvalue = [0, 0, 0, 1, 8, 5]'),\n",
       " Text(296.1692307692308, 95.13, 'gini = 0.245\\nsamples = 7\\nvalue = [0, 0, 0, 1, 6, 0]'),\n",
       " Text(321.9230769230769, 95.13, 'gini = 0.408\\nsamples = 7\\nvalue = [0, 0, 0, 0, 2, 5]')]"
      ]
     },
     "execution_count": 126,
     "metadata": {},
     "output_type": "execute_result"
    },
    {
     "data": {
      "image/png": "[encoded data removed]",
      "text/plain": [
       "<Figure size 432x288 with 1 Axes>"
      ]
     },
     "metadata": {
      "needs_background": "light"
     },
     "output_type": "display_data"
    }
   ],
   "source": [
    "from sklearn import tree\n",
    "import matplotlib.pyplot as plt\n",
    "tree.plot_tree(clf)"
   ]
  },
  {
   "cell_type": "code",
   "execution_count": 127,
   "id": "a45395c3",
   "metadata": {},
   "outputs": [],
   "source": [
    "from sklearn.tree import export_graphviz\n",
    "export_graphviz(clf, out_file=\"tree.dot\", class_names=['50만 관객','100만 관객','200만 관객','300만 관객','500만 관객','1000만 관객'],\n",
    "                 impurity=False, filled=True)"
   ]
  },
  {
   "cell_type": "markdown",
   "id": "257b3874",
   "metadata": {},
   "source": [
    "#### 시각화"
   ]
  },
  {
   "cell_type": "code",
   "execution_count": 128,
   "id": "af314528",
   "metadata": {
    "scrolled": true
   },
   "outputs": [
    {
     "data": {
      "image/svg+xml": [
       "<?xml version=\"1.0\" encoding=\"UTF-8\" standalone=\"no\"?>\r\n",
       "<!DOCTYPE svg PUBLIC \"-//W3C//DTD SVG 1.1//EN\"\r\n",
       " \"http://www.w3.org/Graphics/SVG/1.1/DTD/svg11.dtd\">\r\n",
       "<!-- Generated by graphviz version 2.38.0 (20140413.2041)\r\n",
       " -->\r\n",
       "<!-- Title: Tree Pages: 1 -->\r\n",
       "<svg width=\"2094pt\" height=\"789pt\"\r\n",
       " viewBox=\"0.00 0.00 2094.00 789.00\" xmlns=\"http://www.w3.org/2000/svg\" xmlns:xlink=\"http://www.w3.org/1999/xlink\">\r\n",
       "<g id=\"graph0\" class=\"graph\" transform=\"scale(1 1) rotate(0) translate(4 785)\">\r\n",
       "<title>Tree</title>\r\n",
       "<polygon fill=\"white\" stroke=\"none\" points=\"-4,4 -4,-785 2090,-785 2090,4 -4,4\"/>\r\n",
       "<!-- 0 -->\r\n",
       "<g id=\"node1\" class=\"node\"><title>0</title>\r\n",
       "<polygon fill=\"#e9f9d3\" stroke=\"black\" points=\"929,-781 747,-781 747,-713 929,-713 929,-781\"/>\r\n",
       "<text text-anchor=\"middle\" x=\"838\" y=\"-765.8\" font-family=\"Times New Roman,serif\" font-size=\"14.00\">X[1] &lt;= 1068246.0</text>\r\n",
       "<text text-anchor=\"middle\" x=\"838\" y=\"-750.8\" font-family=\"Times New Roman,serif\" font-size=\"14.00\">samples = 124</text>\r\n",
       "<text text-anchor=\"middle\" x=\"838\" y=\"-735.8\" font-family=\"Times New Roman,serif\" font-size=\"14.00\">value = [16, 46, 24, 21, 10, 7]</text>\r\n",
       "<text text-anchor=\"middle\" x=\"838\" y=\"-720.8\" font-family=\"Times New Roman,serif\" font-size=\"14.00\">class = 100만 관객</text>\r\n",
       "</g>\r\n",
       "<!-- 1 -->\r\n",
       "<g id=\"node2\" class=\"node\"><title>1</title>\r\n",
       "<polygon fill=\"#d0f3a0\" stroke=\"black\" points=\"667.5,-677 506.5,-677 506.5,-609 667.5,-609 667.5,-677\"/>\r\n",
       "<text text-anchor=\"middle\" x=\"587\" y=\"-661.8\" font-family=\"Times New Roman,serif\" font-size=\"14.00\">X[1] &lt;= 561420.0</text>\r\n",
       "<text text-anchor=\"middle\" x=\"587\" y=\"-646.8\" font-family=\"Times New Roman,serif\" font-size=\"14.00\">samples = 60</text>\r\n",
       "<text text-anchor=\"middle\" x=\"587\" y=\"-631.8\" font-family=\"Times New Roman,serif\" font-size=\"14.00\">value = [16, 37, 5, 1, 0, 1]</text>\r\n",
       "<text text-anchor=\"middle\" x=\"587\" y=\"-616.8\" font-family=\"Times New Roman,serif\" font-size=\"14.00\">class = 100만 관객</text>\r\n",
       "</g>\r\n",
       "<!-- 0&#45;&gt;1 -->\r\n",
       "<g id=\"edge1\" class=\"edge\"><title>0&#45;&gt;1</title>\r\n",
       "<path fill=\"none\" stroke=\"black\" d=\"M756.507,-712.884C731.137,-702.574 703.02,-691.147 677.097,-680.613\"/>\r\n",
       "<polygon fill=\"black\" stroke=\"black\" points=\"678.237,-677.298 667.655,-676.776 675.602,-683.783 678.237,-677.298\"/>\r\n",
       "<text text-anchor=\"middle\" x=\"677.377\" y=\"-696.108\" font-family=\"Times New Roman,serif\" font-size=\"14.00\">True</text>\r\n",
       "</g>\r\n",
       "<!-- 14 -->\r\n",
       "<g id=\"node15\" class=\"node\"><title>14</title>\r\n",
       "<polygon fill=\"#fbfdfe\" stroke=\"black\" points=\"1175,-677 1007,-677 1007,-609 1175,-609 1175,-677\"/>\r\n",
       "<text text-anchor=\"middle\" x=\"1091\" y=\"-661.8\" font-family=\"Times New Roman,serif\" font-size=\"14.00\">X[1] &lt;= 1849620.5</text>\r\n",
       "<text text-anchor=\"middle\" x=\"1091\" y=\"-646.8\" font-family=\"Times New Roman,serif\" font-size=\"14.00\">samples = 64</text>\r\n",
       "<text text-anchor=\"middle\" x=\"1091\" y=\"-631.8\" font-family=\"Times New Roman,serif\" font-size=\"14.00\">value = [0, 9, 19, 20, 10, 6]</text>\r\n",
       "<text text-anchor=\"middle\" x=\"1091\" y=\"-616.8\" font-family=\"Times New Roman,serif\" font-size=\"14.00\">class = 300만 관객</text>\r\n",
       "</g>\r\n",
       "<!-- 0&#45;&gt;14 -->\r\n",
       "<g id=\"edge14\" class=\"edge\"><title>0&#45;&gt;14</title>\r\n",
       "<path fill=\"none\" stroke=\"black\" d=\"M920.142,-712.884C945.457,-702.677 973.486,-691.377 999.397,-680.931\"/>\r\n",
       "<polygon fill=\"black\" stroke=\"black\" points=\"1000.87,-684.11 1008.84,-677.125 998.254,-677.618 1000.87,-684.11\"/>\r\n",
       "<text text-anchor=\"middle\" x=\"999.052\" y=\"-696.43\" font-family=\"Times New Roman,serif\" font-size=\"14.00\">False</text>\r\n",
       "</g>\r\n",
       "<!-- 2 -->\r\n",
       "<g id=\"node3\" class=\"node\"><title>2</title>\r\n",
       "<polygon fill=\"#eda673\" stroke=\"black\" points=\"406.5,-573 251.5,-573 251.5,-505 406.5,-505 406.5,-573\"/>\r\n",
       "<text text-anchor=\"middle\" x=\"329\" y=\"-557.8\" font-family=\"Times New Roman,serif\" font-size=\"14.00\">X[4] &lt;= 1099.0</text>\r\n",
       "<text text-anchor=\"middle\" x=\"329\" y=\"-542.8\" font-family=\"Times New Roman,serif\" font-size=\"14.00\">samples = 21</text>\r\n",
       "<text text-anchor=\"middle\" x=\"329\" y=\"-527.8\" font-family=\"Times New Roman,serif\" font-size=\"14.00\">value = [16, 4, 1, 0, 0, 0]</text>\r\n",
       "<text text-anchor=\"middle\" x=\"329\" y=\"-512.8\" font-family=\"Times New Roman,serif\" font-size=\"14.00\">class = 50만 관객</text>\r\n",
       "</g>\r\n",
       "<!-- 1&#45;&gt;2 -->\r\n",
       "<g id=\"edge2\" class=\"edge\"><title>1&#45;&gt;2</title>\r\n",
       "<path fill=\"none\" stroke=\"black\" d=\"M506.428,-610.146C477.745,-598.806 445.324,-585.988 416.116,-574.441\"/>\r\n",
       "<polygon fill=\"black\" stroke=\"black\" points=\"417.341,-571.162 406.755,-570.74 414.768,-577.672 417.341,-571.162\"/>\r\n",
       "</g>\r\n",
       "<!-- 7 -->\r\n",
       "<g id=\"node8\" class=\"node\"><title>7</title>\r\n",
       "<polygon fill=\"#aee95b\" stroke=\"black\" points=\"664.5,-573 509.5,-573 509.5,-505 664.5,-505 664.5,-573\"/>\r\n",
       "<text text-anchor=\"middle\" x=\"587\" y=\"-557.8\" font-family=\"Times New Roman,serif\" font-size=\"14.00\">X[4] &lt;= 724.5</text>\r\n",
       "<text text-anchor=\"middle\" x=\"587\" y=\"-542.8\" font-family=\"Times New Roman,serif\" font-size=\"14.00\">samples = 39</text>\r\n",
       "<text text-anchor=\"middle\" x=\"587\" y=\"-527.8\" font-family=\"Times New Roman,serif\" font-size=\"14.00\">value = [0, 33, 4, 1, 0, 1]</text>\r\n",
       "<text text-anchor=\"middle\" x=\"587\" y=\"-512.8\" font-family=\"Times New Roman,serif\" font-size=\"14.00\">class = 100만 관객</text>\r\n",
       "</g>\r\n",
       "<!-- 1&#45;&gt;7 -->\r\n",
       "<g id=\"edge7\" class=\"edge\"><title>1&#45;&gt;7</title>\r\n",
       "<path fill=\"none\" stroke=\"black\" d=\"M587,-608.884C587,-600.778 587,-591.982 587,-583.472\"/>\r\n",
       "<polygon fill=\"black\" stroke=\"black\" points=\"590.5,-583.299 587,-573.299 583.5,-583.299 590.5,-583.299\"/>\r\n",
       "</g>\r\n",
       "<!-- 3 -->\r\n",
       "<g id=\"node4\" class=\"node\"><title>3</title>\r\n",
       "<polygon fill=\"#e89253\" stroke=\"black\" points=\"236.5,-469 81.5,-469 81.5,-401 236.5,-401 236.5,-469\"/>\r\n",
       "<text text-anchor=\"middle\" x=\"159\" y=\"-453.8\" font-family=\"Times New Roman,serif\" font-size=\"14.00\">X[6] &lt;= 13.5</text>\r\n",
       "<text text-anchor=\"middle\" x=\"159\" y=\"-438.8\" font-family=\"Times New Roman,serif\" font-size=\"14.00\">samples = 17</text>\r\n",
       "<text text-anchor=\"middle\" x=\"159\" y=\"-423.8\" font-family=\"Times New Roman,serif\" font-size=\"14.00\">value = [15, 2, 0, 0, 0, 0]</text>\r\n",
       "<text text-anchor=\"middle\" x=\"159\" y=\"-408.8\" font-family=\"Times New Roman,serif\" font-size=\"14.00\">class = 50만 관객</text>\r\n",
       "</g>\r\n",
       "<!-- 2&#45;&gt;3 -->\r\n",
       "<g id=\"edge3\" class=\"edge\"><title>2&#45;&gt;3</title>\r\n",
       "<path fill=\"none\" stroke=\"black\" d=\"M273.806,-504.884C257.542,-495.125 239.61,-484.366 222.85,-474.31\"/>\r\n",
       "<polygon fill=\"black\" stroke=\"black\" points=\"224.584,-471.269 214.208,-469.125 220.982,-477.271 224.584,-471.269\"/>\r\n",
       "</g>\r\n",
       "<!-- 6 -->\r\n",
       "<g id=\"node7\" class=\"node\"><title>6</title>\r\n",
       "<polygon fill=\"#def6bd\" stroke=\"black\" points=\"403,-461.5 255,-461.5 255,-408.5 403,-408.5 403,-461.5\"/>\r\n",
       "<text text-anchor=\"middle\" x=\"329\" y=\"-446.3\" font-family=\"Times New Roman,serif\" font-size=\"14.00\">samples = 4</text>\r\n",
       "<text text-anchor=\"middle\" x=\"329\" y=\"-431.3\" font-family=\"Times New Roman,serif\" font-size=\"14.00\">value = [1, 2, 1, 0, 0, 0]</text>\r\n",
       "<text text-anchor=\"middle\" x=\"329\" y=\"-416.3\" font-family=\"Times New Roman,serif\" font-size=\"14.00\">class = 100만 관객</text>\r\n",
       "</g>\r\n",
       "<!-- 2&#45;&gt;6 -->\r\n",
       "<g id=\"edge6\" class=\"edge\"><title>2&#45;&gt;6</title>\r\n",
       "<path fill=\"none\" stroke=\"black\" d=\"M329,-504.884C329,-494.326 329,-482.597 329,-471.854\"/>\r\n",
       "<polygon fill=\"black\" stroke=\"black\" points=\"332.5,-471.52 329,-461.52 325.5,-471.52 332.5,-471.52\"/>\r\n",
       "</g>\r\n",
       "<!-- 4 -->\r\n",
       "<g id=\"node5\" class=\"node\"><title>4</title>\r\n",
       "<polygon fill=\"#f2c09c\" stroke=\"black\" points=\"148,-357.5 0,-357.5 0,-304.5 148,-304.5 148,-357.5\"/>\r\n",
       "<text text-anchor=\"middle\" x=\"74\" y=\"-342.3\" font-family=\"Times New Roman,serif\" font-size=\"14.00\">samples = 6</text>\r\n",
       "<text text-anchor=\"middle\" x=\"74\" y=\"-327.3\" font-family=\"Times New Roman,serif\" font-size=\"14.00\">value = [4, 2, 0, 0, 0, 0]</text>\r\n",
       "<text text-anchor=\"middle\" x=\"74\" y=\"-312.3\" font-family=\"Times New Roman,serif\" font-size=\"14.00\">class = 50만 관객</text>\r\n",
       "</g>\r\n",
       "<!-- 3&#45;&gt;4 -->\r\n",
       "<g id=\"edge4\" class=\"edge\"><title>3&#45;&gt;4</title>\r\n",
       "<path fill=\"none\" stroke=\"black\" d=\"M131.403,-400.884C121.963,-389.556 111.4,-376.88 101.934,-365.521\"/>\r\n",
       "<polygon fill=\"black\" stroke=\"black\" points=\"104.357,-362.962 95.2666,-357.52 98.9797,-367.443 104.357,-362.962\"/>\r\n",
       "</g>\r\n",
       "<!-- 5 -->\r\n",
       "<g id=\"node6\" class=\"node\"><title>5</title>\r\n",
       "<polygon fill=\"#e58139\" stroke=\"black\" points=\"321.5,-357.5 166.5,-357.5 166.5,-304.5 321.5,-304.5 321.5,-357.5\"/>\r\n",
       "<text text-anchor=\"middle\" x=\"244\" y=\"-342.3\" font-family=\"Times New Roman,serif\" font-size=\"14.00\">samples = 11</text>\r\n",
       "<text text-anchor=\"middle\" x=\"244\" y=\"-327.3\" font-family=\"Times New Roman,serif\" font-size=\"14.00\">value = [11, 0, 0, 0, 0, 0]</text>\r\n",
       "<text text-anchor=\"middle\" x=\"244\" y=\"-312.3\" font-family=\"Times New Roman,serif\" font-size=\"14.00\">class = 50만 관객</text>\r\n",
       "</g>\r\n",
       "<!-- 3&#45;&gt;5 -->\r\n",
       "<g id=\"edge5\" class=\"edge\"><title>3&#45;&gt;5</title>\r\n",
       "<path fill=\"none\" stroke=\"black\" d=\"M186.597,-400.884C196.037,-389.556 206.6,-376.88 216.066,-365.521\"/>\r\n",
       "<polygon fill=\"black\" stroke=\"black\" points=\"219.02,-367.443 222.733,-357.52 213.643,-362.962 219.02,-367.443\"/>\r\n",
       "</g>\r\n",
       "<!-- 8 -->\r\n",
       "<g id=\"node9\" class=\"node\"><title>8</title>\r\n",
       "<polygon fill=\"#9de539\" stroke=\"black\" points=\"576.5,-461.5 421.5,-461.5 421.5,-408.5 576.5,-408.5 576.5,-461.5\"/>\r\n",
       "<text text-anchor=\"middle\" x=\"499\" y=\"-446.3\" font-family=\"Times New Roman,serif\" font-size=\"14.00\">samples = 20</text>\r\n",
       "<text text-anchor=\"middle\" x=\"499\" y=\"-431.3\" font-family=\"Times New Roman,serif\" font-size=\"14.00\">value = [0, 20, 0, 0, 0, 0]</text>\r\n",
       "<text text-anchor=\"middle\" x=\"499\" y=\"-416.3\" font-family=\"Times New Roman,serif\" font-size=\"14.00\">class = 100만 관객</text>\r\n",
       "</g>\r\n",
       "<!-- 7&#45;&gt;8 -->\r\n",
       "<g id=\"edge8\" class=\"edge\"><title>7&#45;&gt;8</title>\r\n",
       "<path fill=\"none\" stroke=\"black\" d=\"M558.429,-504.884C548.561,-493.446 537.508,-480.634 527.635,-469.19\"/>\r\n",
       "<polygon fill=\"black\" stroke=\"black\" points=\"530.2,-466.805 521.017,-461.52 524.9,-471.378 530.2,-466.805\"/>\r\n",
       "</g>\r\n",
       "<!-- 9 -->\r\n",
       "<g id=\"node10\" class=\"node\"><title>9</title>\r\n",
       "<polygon fill=\"#c4ef88\" stroke=\"black\" points=\"749.5,-469 594.5,-469 594.5,-401 749.5,-401 749.5,-469\"/>\r\n",
       "<text text-anchor=\"middle\" x=\"672\" y=\"-453.8\" font-family=\"Times New Roman,serif\" font-size=\"14.00\">X[9] &lt;= 3.5</text>\r\n",
       "<text text-anchor=\"middle\" x=\"672\" y=\"-438.8\" font-family=\"Times New Roman,serif\" font-size=\"14.00\">samples = 19</text>\r\n",
       "<text text-anchor=\"middle\" x=\"672\" y=\"-423.8\" font-family=\"Times New Roman,serif\" font-size=\"14.00\">value = [0, 13, 4, 1, 0, 1]</text>\r\n",
       "<text text-anchor=\"middle\" x=\"672\" y=\"-408.8\" font-family=\"Times New Roman,serif\" font-size=\"14.00\">class = 100만 관객</text>\r\n",
       "</g>\r\n",
       "<!-- 7&#45;&gt;9 -->\r\n",
       "<g id=\"edge9\" class=\"edge\"><title>7&#45;&gt;9</title>\r\n",
       "<path fill=\"none\" stroke=\"black\" d=\"M614.597,-504.884C621.946,-496.065 629.975,-486.43 637.637,-477.235\"/>\r\n",
       "<polygon fill=\"black\" stroke=\"black\" points=\"640.537,-479.222 644.251,-469.299 635.16,-474.741 640.537,-479.222\"/>\r\n",
       "</g>\r\n",
       "<!-- 10 -->\r\n",
       "<g id=\"node11\" class=\"node\"><title>10</title>\r\n",
       "<polygon fill=\"#bdf6d5\" stroke=\"black\" points=\"576,-357.5 428,-357.5 428,-304.5 576,-304.5 576,-357.5\"/>\r\n",
       "<text text-anchor=\"middle\" x=\"502\" y=\"-342.3\" font-family=\"Times New Roman,serif\" font-size=\"14.00\">samples = 4</text>\r\n",
       "<text text-anchor=\"middle\" x=\"502\" y=\"-327.3\" font-family=\"Times New Roman,serif\" font-size=\"14.00\">value = [0, 1, 2, 0, 0, 1]</text>\r\n",
       "<text text-anchor=\"middle\" x=\"502\" y=\"-312.3\" font-family=\"Times New Roman,serif\" font-size=\"14.00\">class = 200만 관객</text>\r\n",
       "</g>\r\n",
       "<!-- 9&#45;&gt;10 -->\r\n",
       "<g id=\"edge10\" class=\"edge\"><title>9&#45;&gt;10</title>\r\n",
       "<path fill=\"none\" stroke=\"black\" d=\"M616.806,-400.884C596.368,-388.621 573.298,-374.779 553.228,-362.737\"/>\r\n",
       "<polygon fill=\"black\" stroke=\"black\" points=\"554.909,-359.664 544.533,-357.52 551.307,-365.666 554.909,-359.664\"/>\r\n",
       "</g>\r\n",
       "<!-- 11 -->\r\n",
       "<g id=\"node12\" class=\"node\"><title>11</title>\r\n",
       "<polygon fill=\"#b4eb67\" stroke=\"black\" points=\"749.5,-365 594.5,-365 594.5,-297 749.5,-297 749.5,-365\"/>\r\n",
       "<text text-anchor=\"middle\" x=\"672\" y=\"-349.8\" font-family=\"Times New Roman,serif\" font-size=\"14.00\">X[0] &lt;= 114703.0</text>\r\n",
       "<text text-anchor=\"middle\" x=\"672\" y=\"-334.8\" font-family=\"Times New Roman,serif\" font-size=\"14.00\">samples = 15</text>\r\n",
       "<text text-anchor=\"middle\" x=\"672\" y=\"-319.8\" font-family=\"Times New Roman,serif\" font-size=\"14.00\">value = [0, 12, 2, 1, 0, 0]</text>\r\n",
       "<text text-anchor=\"middle\" x=\"672\" y=\"-304.8\" font-family=\"Times New Roman,serif\" font-size=\"14.00\">class = 100만 관객</text>\r\n",
       "</g>\r\n",
       "<!-- 9&#45;&gt;11 -->\r\n",
       "<g id=\"edge11\" class=\"edge\"><title>9&#45;&gt;11</title>\r\n",
       "<path fill=\"none\" stroke=\"black\" d=\"M672,-400.884C672,-392.778 672,-383.982 672,-375.472\"/>\r\n",
       "<polygon fill=\"black\" stroke=\"black\" points=\"675.5,-375.299 672,-365.299 668.5,-375.299 675.5,-375.299\"/>\r\n",
       "</g>\r\n",
       "<!-- 12 -->\r\n",
       "<g id=\"node13\" class=\"node\"><title>12</title>\r\n",
       "<polygon fill=\"#9de539\" stroke=\"black\" points=\"663,-253.5 515,-253.5 515,-200.5 663,-200.5 663,-253.5\"/>\r\n",
       "<text text-anchor=\"middle\" x=\"589\" y=\"-238.3\" font-family=\"Times New Roman,serif\" font-size=\"14.00\">samples = 8</text>\r\n",
       "<text text-anchor=\"middle\" x=\"589\" y=\"-223.3\" font-family=\"Times New Roman,serif\" font-size=\"14.00\">value = [0, 8, 0, 0, 0, 0]</text>\r\n",
       "<text text-anchor=\"middle\" x=\"589\" y=\"-208.3\" font-family=\"Times New Roman,serif\" font-size=\"14.00\">class = 100만 관객</text>\r\n",
       "</g>\r\n",
       "<!-- 11&#45;&gt;12 -->\r\n",
       "<g id=\"edge12\" class=\"edge\"><title>11&#45;&gt;12</title>\r\n",
       "<path fill=\"none\" stroke=\"black\" d=\"M645.052,-296.884C635.835,-285.556 625.52,-272.88 616.277,-261.521\"/>\r\n",
       "<polygon fill=\"black\" stroke=\"black\" points=\"618.793,-259.067 609.766,-253.52 613.363,-263.486 618.793,-259.067\"/>\r\n",
       "</g>\r\n",
       "<!-- 13 -->\r\n",
       "<g id=\"node14\" class=\"node\"><title>13</title>\r\n",
       "<polygon fill=\"#d8f5b0\" stroke=\"black\" points=\"829,-253.5 681,-253.5 681,-200.5 829,-200.5 829,-253.5\"/>\r\n",
       "<text text-anchor=\"middle\" x=\"755\" y=\"-238.3\" font-family=\"Times New Roman,serif\" font-size=\"14.00\">samples = 7</text>\r\n",
       "<text text-anchor=\"middle\" x=\"755\" y=\"-223.3\" font-family=\"Times New Roman,serif\" font-size=\"14.00\">value = [0, 4, 2, 1, 0, 0]</text>\r\n",
       "<text text-anchor=\"middle\" x=\"755\" y=\"-208.3\" font-family=\"Times New Roman,serif\" font-size=\"14.00\">class = 100만 관객</text>\r\n",
       "</g>\r\n",
       "<!-- 11&#45;&gt;13 -->\r\n",
       "<g id=\"edge13\" class=\"edge\"><title>11&#45;&gt;13</title>\r\n",
       "<path fill=\"none\" stroke=\"black\" d=\"M698.948,-296.884C708.165,-285.556 718.48,-272.88 727.723,-261.521\"/>\r\n",
       "<polygon fill=\"black\" stroke=\"black\" points=\"730.637,-263.486 734.234,-253.52 725.207,-259.067 730.637,-263.486\"/>\r\n",
       "</g>\r\n",
       "<!-- 15 -->\r\n",
       "<g id=\"node16\" class=\"node\"><title>15</title>\r\n",
       "<polygon fill=\"#c2f7d8\" stroke=\"black\" points=\"1171.5,-573 1010.5,-573 1010.5,-505 1171.5,-505 1171.5,-573\"/>\r\n",
       "<text text-anchor=\"middle\" x=\"1091\" y=\"-557.8\" font-family=\"Times New Roman,serif\" font-size=\"14.00\">X[4] &lt;= 638.5</text>\r\n",
       "<text text-anchor=\"middle\" x=\"1091\" y=\"-542.8\" font-family=\"Times New Roman,serif\" font-size=\"14.00\">samples = 39</text>\r\n",
       "<text text-anchor=\"middle\" x=\"1091\" y=\"-527.8\" font-family=\"Times New Roman,serif\" font-size=\"14.00\">value = [0, 9, 19, 10, 0, 1]</text>\r\n",
       "<text text-anchor=\"middle\" x=\"1091\" y=\"-512.8\" font-family=\"Times New Roman,serif\" font-size=\"14.00\">class = 200만 관객</text>\r\n",
       "</g>\r\n",
       "<!-- 14&#45;&gt;15 -->\r\n",
       "<g id=\"edge15\" class=\"edge\"><title>14&#45;&gt;15</title>\r\n",
       "<path fill=\"none\" stroke=\"black\" d=\"M1091,-608.884C1091,-600.778 1091,-591.982 1091,-583.472\"/>\r\n",
       "<polygon fill=\"black\" stroke=\"black\" points=\"1094.5,-583.299 1091,-573.299 1087.5,-583.299 1094.5,-583.299\"/>\r\n",
       "</g>\r\n",
       "<!-- 28 -->\r\n",
       "<g id=\"node29\" class=\"node\"><title>28</title>\r\n",
       "<polygon fill=\"#ffffff\" stroke=\"black\" points=\"1677.5,-573 1516.5,-573 1516.5,-505 1677.5,-505 1677.5,-573\"/>\r\n",
       "<text text-anchor=\"middle\" x=\"1597\" y=\"-557.8\" font-family=\"Times New Roman,serif\" font-size=\"14.00\">X[1] &lt;= 2687448.0</text>\r\n",
       "<text text-anchor=\"middle\" x=\"1597\" y=\"-542.8\" font-family=\"Times New Roman,serif\" font-size=\"14.00\">samples = 25</text>\r\n",
       "<text text-anchor=\"middle\" x=\"1597\" y=\"-527.8\" font-family=\"Times New Roman,serif\" font-size=\"14.00\">value = [0, 0, 0, 10, 10, 5]</text>\r\n",
       "<text text-anchor=\"middle\" x=\"1597\" y=\"-512.8\" font-family=\"Times New Roman,serif\" font-size=\"14.00\">class = 300만 관객</text>\r\n",
       "</g>\r\n",
       "<!-- 14&#45;&gt;28 -->\r\n",
       "<g id=\"edge28\" class=\"edge\"><title>14&#45;&gt;28</title>\r\n",
       "<path fill=\"none\" stroke=\"black\" d=\"M1175.12,-625.042C1266.63,-606.595 1412.39,-577.213 1506.38,-558.268\"/>\r\n",
       "<polygon fill=\"black\" stroke=\"black\" points=\"1507.33,-561.646 1516.44,-556.239 1505.95,-554.784 1507.33,-561.646\"/>\r\n",
       "</g>\r\n",
       "<!-- 16 -->\r\n",
       "<g id=\"node17\" class=\"node\"><title>16</title>\r\n",
       "<polygon fill=\"#d3f3a7\" stroke=\"black\" points=\"1080,-469 932,-469 932,-401 1080,-401 1080,-469\"/>\r\n",
       "<text text-anchor=\"middle\" x=\"1006\" y=\"-453.8\" font-family=\"Times New Roman,serif\" font-size=\"14.00\">X[9] &lt;= 6.5</text>\r\n",
       "<text text-anchor=\"middle\" x=\"1006\" y=\"-438.8\" font-family=\"Times New Roman,serif\" font-size=\"14.00\">samples = 13</text>\r\n",
       "<text text-anchor=\"middle\" x=\"1006\" y=\"-423.8\" font-family=\"Times New Roman,serif\" font-size=\"14.00\">value = [0, 8, 4, 1, 0, 0]</text>\r\n",
       "<text text-anchor=\"middle\" x=\"1006\" y=\"-408.8\" font-family=\"Times New Roman,serif\" font-size=\"14.00\">class = 100만 관객</text>\r\n",
       "</g>\r\n",
       "<!-- 15&#45;&gt;16 -->\r\n",
       "<g id=\"edge16\" class=\"edge\"><title>15&#45;&gt;16</title>\r\n",
       "<path fill=\"none\" stroke=\"black\" d=\"M1063.4,-504.884C1056.05,-496.065 1048.03,-486.43 1040.36,-477.235\"/>\r\n",
       "<polygon fill=\"black\" stroke=\"black\" points=\"1042.84,-474.741 1033.75,-469.299 1037.46,-479.222 1042.84,-474.741\"/>\r\n",
       "</g>\r\n",
       "<!-- 19 -->\r\n",
       "<g id=\"node20\" class=\"node\"><title>19</title>\r\n",
       "<polygon fill=\"#b9f6d3\" stroke=\"black\" points=\"1253.5,-469 1098.5,-469 1098.5,-401 1253.5,-401 1253.5,-469\"/>\r\n",
       "<text text-anchor=\"middle\" x=\"1176\" y=\"-453.8\" font-family=\"Times New Roman,serif\" font-size=\"14.00\">X[4] &lt;= 774.5</text>\r\n",
       "<text text-anchor=\"middle\" x=\"1176\" y=\"-438.8\" font-family=\"Times New Roman,serif\" font-size=\"14.00\">samples = 26</text>\r\n",
       "<text text-anchor=\"middle\" x=\"1176\" y=\"-423.8\" font-family=\"Times New Roman,serif\" font-size=\"14.00\">value = [0, 1, 15, 9, 0, 1]</text>\r\n",
       "<text text-anchor=\"middle\" x=\"1176\" y=\"-408.8\" font-family=\"Times New Roman,serif\" font-size=\"14.00\">class = 200만 관객</text>\r\n",
       "</g>\r\n",
       "<!-- 15&#45;&gt;19 -->\r\n",
       "<g id=\"edge19\" class=\"edge\"><title>15&#45;&gt;19</title>\r\n",
       "<path fill=\"none\" stroke=\"black\" d=\"M1118.6,-504.884C1125.95,-496.065 1133.97,-486.43 1141.64,-477.235\"/>\r\n",
       "<polygon fill=\"black\" stroke=\"black\" points=\"1144.54,-479.222 1148.25,-469.299 1139.16,-474.741 1144.54,-479.222\"/>\r\n",
       "</g>\r\n",
       "<!-- 17 -->\r\n",
       "<g id=\"node18\" class=\"node\"><title>17</title>\r\n",
       "<polygon fill=\"#b0f5cd\" stroke=\"black\" points=\"916,-357.5 768,-357.5 768,-304.5 916,-304.5 916,-357.5\"/>\r\n",
       "<text text-anchor=\"middle\" x=\"842\" y=\"-342.3\" font-family=\"Times New Roman,serif\" font-size=\"14.00\">samples = 7</text>\r\n",
       "<text text-anchor=\"middle\" x=\"842\" y=\"-327.3\" font-family=\"Times New Roman,serif\" font-size=\"14.00\">value = [0, 2, 4, 1, 0, 0]</text>\r\n",
       "<text text-anchor=\"middle\" x=\"842\" y=\"-312.3\" font-family=\"Times New Roman,serif\" font-size=\"14.00\">class = 200만 관객</text>\r\n",
       "</g>\r\n",
       "<!-- 16&#45;&gt;17 -->\r\n",
       "<g id=\"edge17\" class=\"edge\"><title>16&#45;&gt;17</title>\r\n",
       "<path fill=\"none\" stroke=\"black\" d=\"M952.754,-400.884C933.126,-388.676 910.981,-374.903 891.681,-362.899\"/>\r\n",
       "<polygon fill=\"black\" stroke=\"black\" points=\"893.372,-359.829 883.032,-357.52 889.675,-365.773 893.372,-359.829\"/>\r\n",
       "</g>\r\n",
       "<!-- 18 -->\r\n",
       "<g id=\"node19\" class=\"node\"><title>18</title>\r\n",
       "<polygon fill=\"#9de539\" stroke=\"black\" points=\"1082,-357.5 934,-357.5 934,-304.5 1082,-304.5 1082,-357.5\"/>\r\n",
       "<text text-anchor=\"middle\" x=\"1008\" y=\"-342.3\" font-family=\"Times New Roman,serif\" font-size=\"14.00\">samples = 6</text>\r\n",
       "<text text-anchor=\"middle\" x=\"1008\" y=\"-327.3\" font-family=\"Times New Roman,serif\" font-size=\"14.00\">value = [0, 6, 0, 0, 0, 0]</text>\r\n",
       "<text text-anchor=\"middle\" x=\"1008\" y=\"-312.3\" font-family=\"Times New Roman,serif\" font-size=\"14.00\">class = 100만 관객</text>\r\n",
       "</g>\r\n",
       "<!-- 16&#45;&gt;18 -->\r\n",
       "<g id=\"edge18\" class=\"edge\"><title>16&#45;&gt;18</title>\r\n",
       "<path fill=\"none\" stroke=\"black\" d=\"M1006.65,-400.884C1006.86,-390.216 1007.09,-378.352 1007.3,-367.519\"/>\r\n",
       "<polygon fill=\"black\" stroke=\"black\" points=\"1010.8,-367.587 1007.5,-357.52 1003.8,-367.449 1010.8,-367.587\"/>\r\n",
       "</g>\r\n",
       "<!-- 20 -->\r\n",
       "<g id=\"node21\" class=\"node\"><title>20</title>\r\n",
       "<polygon fill=\"#b0d8f5\" stroke=\"black\" points=\"1248,-357.5 1100,-357.5 1100,-304.5 1248,-304.5 1248,-357.5\"/>\r\n",
       "<text text-anchor=\"middle\" x=\"1174\" y=\"-342.3\" font-family=\"Times New Roman,serif\" font-size=\"14.00\">samples = 7</text>\r\n",
       "<text text-anchor=\"middle\" x=\"1174\" y=\"-327.3\" font-family=\"Times New Roman,serif\" font-size=\"14.00\">value = [0, 1, 2, 4, 0, 0]</text>\r\n",
       "<text text-anchor=\"middle\" x=\"1174\" y=\"-312.3\" font-family=\"Times New Roman,serif\" font-size=\"14.00\">class = 300만 관객</text>\r\n",
       "</g>\r\n",
       "<!-- 19&#45;&gt;20 -->\r\n",
       "<g id=\"edge20\" class=\"edge\"><title>19&#45;&gt;20</title>\r\n",
       "<path fill=\"none\" stroke=\"black\" d=\"M1175.35,-400.884C1175.14,-390.216 1174.91,-378.352 1174.7,-367.519\"/>\r\n",
       "<polygon fill=\"black\" stroke=\"black\" points=\"1178.2,-367.449 1174.5,-357.52 1171.2,-367.587 1178.2,-367.449\"/>\r\n",
       "</g>\r\n",
       "<!-- 21 -->\r\n",
       "<g id=\"node22\" class=\"node\"><title>21</title>\r\n",
       "<polygon fill=\"#8ef0b7\" stroke=\"black\" points=\"1421.5,-365 1266.5,-365 1266.5,-297 1421.5,-297 1421.5,-365\"/>\r\n",
       "<text text-anchor=\"middle\" x=\"1344\" y=\"-349.8\" font-family=\"Times New Roman,serif\" font-size=\"14.00\">X[1] &lt;= 1589704.0</text>\r\n",
       "<text text-anchor=\"middle\" x=\"1344\" y=\"-334.8\" font-family=\"Times New Roman,serif\" font-size=\"14.00\">samples = 19</text>\r\n",
       "<text text-anchor=\"middle\" x=\"1344\" y=\"-319.8\" font-family=\"Times New Roman,serif\" font-size=\"14.00\">value = [0, 0, 13, 5, 0, 1]</text>\r\n",
       "<text text-anchor=\"middle\" x=\"1344\" y=\"-304.8\" font-family=\"Times New Roman,serif\" font-size=\"14.00\">class = 200만 관객</text>\r\n",
       "</g>\r\n",
       "<!-- 19&#45;&gt;21 -->\r\n",
       "<g id=\"edge21\" class=\"edge\"><title>19&#45;&gt;21</title>\r\n",
       "<path fill=\"none\" stroke=\"black\" d=\"M1230.54,-400.884C1246.47,-391.214 1264.01,-380.563 1280.44,-370.587\"/>\r\n",
       "<polygon fill=\"black\" stroke=\"black\" points=\"1282.71,-373.306 1289.44,-365.125 1279.08,-367.323 1282.71,-373.306\"/>\r\n",
       "</g>\r\n",
       "<!-- 22 -->\r\n",
       "<g id=\"node23\" class=\"node\"><title>22</title>\r\n",
       "<polygon fill=\"#67eb9e\" stroke=\"black\" points=\"1336.5,-261 1181.5,-261 1181.5,-193 1336.5,-193 1336.5,-261\"/>\r\n",
       "<text text-anchor=\"middle\" x=\"1259\" y=\"-245.8\" font-family=\"Times New Roman,serif\" font-size=\"14.00\">X[7] &lt;= 3.5</text>\r\n",
       "<text text-anchor=\"middle\" x=\"1259\" y=\"-230.8\" font-family=\"Times New Roman,serif\" font-size=\"14.00\">samples = 15</text>\r\n",
       "<text text-anchor=\"middle\" x=\"1259\" y=\"-215.8\" font-family=\"Times New Roman,serif\" font-size=\"14.00\">value = [0, 0, 12, 2, 0, 1]</text>\r\n",
       "<text text-anchor=\"middle\" x=\"1259\" y=\"-200.8\" font-family=\"Times New Roman,serif\" font-size=\"14.00\">class = 200만 관객</text>\r\n",
       "</g>\r\n",
       "<!-- 21&#45;&gt;22 -->\r\n",
       "<g id=\"edge22\" class=\"edge\"><title>21&#45;&gt;22</title>\r\n",
       "<path fill=\"none\" stroke=\"black\" d=\"M1316.4,-296.884C1309.05,-288.065 1301.03,-278.43 1293.36,-269.235\"/>\r\n",
       "<polygon fill=\"black\" stroke=\"black\" points=\"1295.84,-266.741 1286.75,-261.299 1290.46,-271.222 1295.84,-266.741\"/>\r\n",
       "</g>\r\n",
       "<!-- 27 -->\r\n",
       "<g id=\"node28\" class=\"node\"><title>27</title>\r\n",
       "<polygon fill=\"#7bbeee\" stroke=\"black\" points=\"1503,-253.5 1355,-253.5 1355,-200.5 1503,-200.5 1503,-253.5\"/>\r\n",
       "<text text-anchor=\"middle\" x=\"1429\" y=\"-238.3\" font-family=\"Times New Roman,serif\" font-size=\"14.00\">samples = 4</text>\r\n",
       "<text text-anchor=\"middle\" x=\"1429\" y=\"-223.3\" font-family=\"Times New Roman,serif\" font-size=\"14.00\">value = [0, 0, 1, 3, 0, 0]</text>\r\n",
       "<text text-anchor=\"middle\" x=\"1429\" y=\"-208.3\" font-family=\"Times New Roman,serif\" font-size=\"14.00\">class = 300만 관객</text>\r\n",
       "</g>\r\n",
       "<!-- 21&#45;&gt;27 -->\r\n",
       "<g id=\"edge27\" class=\"edge\"><title>21&#45;&gt;27</title>\r\n",
       "<path fill=\"none\" stroke=\"black\" d=\"M1371.6,-296.884C1381.04,-285.556 1391.6,-272.88 1401.07,-261.521\"/>\r\n",
       "<polygon fill=\"black\" stroke=\"black\" points=\"1404.02,-263.443 1407.73,-253.52 1398.64,-258.962 1404.02,-263.443\"/>\r\n",
       "</g>\r\n",
       "<!-- 23 -->\r\n",
       "<g id=\"node24\" class=\"node\"><title>23</title>\r\n",
       "<polygon fill=\"#9cf2c0\" stroke=\"black\" points=\"1250,-157 1102,-157 1102,-89 1250,-89 1250,-157\"/>\r\n",
       "<text text-anchor=\"middle\" x=\"1176\" y=\"-141.8\" font-family=\"Times New Roman,serif\" font-size=\"14.00\">X[3] &lt;= 999.5</text>\r\n",
       "<text text-anchor=\"middle\" x=\"1176\" y=\"-126.8\" font-family=\"Times New Roman,serif\" font-size=\"14.00\">samples = 8</text>\r\n",
       "<text text-anchor=\"middle\" x=\"1176\" y=\"-111.8\" font-family=\"Times New Roman,serif\" font-size=\"14.00\">value = [0, 0, 5, 2, 0, 1]</text>\r\n",
       "<text text-anchor=\"middle\" x=\"1176\" y=\"-96.8\" font-family=\"Times New Roman,serif\" font-size=\"14.00\">class = 200만 관객</text>\r\n",
       "</g>\r\n",
       "<!-- 22&#45;&gt;23 -->\r\n",
       "<g id=\"edge23\" class=\"edge\"><title>22&#45;&gt;23</title>\r\n",
       "<path fill=\"none\" stroke=\"black\" d=\"M1232.05,-192.884C1224.88,-184.065 1217.04,-174.43 1209.55,-165.235\"/>\r\n",
       "<polygon fill=\"black\" stroke=\"black\" points=\"1212.12,-162.847 1203.1,-157.299 1206.69,-167.265 1212.12,-162.847\"/>\r\n",
       "</g>\r\n",
       "<!-- 26 -->\r\n",
       "<g id=\"node27\" class=\"node\"><title>26</title>\r\n",
       "<polygon fill=\"#39e581\" stroke=\"black\" points=\"1416,-149.5 1268,-149.5 1268,-96.5 1416,-96.5 1416,-149.5\"/>\r\n",
       "<text text-anchor=\"middle\" x=\"1342\" y=\"-134.3\" font-family=\"Times New Roman,serif\" font-size=\"14.00\">samples = 7</text>\r\n",
       "<text text-anchor=\"middle\" x=\"1342\" y=\"-119.3\" font-family=\"Times New Roman,serif\" font-size=\"14.00\">value = [0, 0, 7, 0, 0, 0]</text>\r\n",
       "<text text-anchor=\"middle\" x=\"1342\" y=\"-104.3\" font-family=\"Times New Roman,serif\" font-size=\"14.00\">class = 200만 관객</text>\r\n",
       "</g>\r\n",
       "<!-- 22&#45;&gt;26 -->\r\n",
       "<g id=\"edge26\" class=\"edge\"><title>22&#45;&gt;26</title>\r\n",
       "<path fill=\"none\" stroke=\"black\" d=\"M1285.95,-192.884C1295.17,-181.556 1305.48,-168.88 1314.72,-157.521\"/>\r\n",
       "<polygon fill=\"black\" stroke=\"black\" points=\"1317.64,-159.486 1321.23,-149.52 1312.21,-155.067 1317.64,-159.486\"/>\r\n",
       "</g>\r\n",
       "<!-- 24 -->\r\n",
       "<g id=\"node25\" class=\"node\"><title>24</title>\r\n",
       "<polygon fill=\"#39e581\" stroke=\"black\" points=\"1167,-53 1019,-53 1019,-0 1167,-0 1167,-53\"/>\r\n",
       "<text text-anchor=\"middle\" x=\"1093\" y=\"-37.8\" font-family=\"Times New Roman,serif\" font-size=\"14.00\">samples = 4</text>\r\n",
       "<text text-anchor=\"middle\" x=\"1093\" y=\"-22.8\" font-family=\"Times New Roman,serif\" font-size=\"14.00\">value = [0, 0, 4, 0, 0, 0]</text>\r\n",
       "<text text-anchor=\"middle\" x=\"1093\" y=\"-7.8\" font-family=\"Times New Roman,serif\" font-size=\"14.00\">class = 200만 관객</text>\r\n",
       "</g>\r\n",
       "<!-- 23&#45;&gt;24 -->\r\n",
       "<g id=\"edge24\" class=\"edge\"><title>23&#45;&gt;24</title>\r\n",
       "<path fill=\"none\" stroke=\"black\" d=\"M1146.97,-88.9485C1139.02,-79.892 1130.39,-70.0682 1122.41,-60.9875\"/>\r\n",
       "<polygon fill=\"black\" stroke=\"black\" points=\"1124.83,-58.4405 1115.6,-53.2367 1119.57,-63.0599 1124.83,-58.4405\"/>\r\n",
       "</g>\r\n",
       "<!-- 25 -->\r\n",
       "<g id=\"node26\" class=\"node\"><title>25</title>\r\n",
       "<polygon fill=\"#bddef6\" stroke=\"black\" points=\"1333,-53 1185,-53 1185,-0 1333,-0 1333,-53\"/>\r\n",
       "<text text-anchor=\"middle\" x=\"1259\" y=\"-37.8\" font-family=\"Times New Roman,serif\" font-size=\"14.00\">samples = 4</text>\r\n",
       "<text text-anchor=\"middle\" x=\"1259\" y=\"-22.8\" font-family=\"Times New Roman,serif\" font-size=\"14.00\">value = [0, 0, 1, 2, 0, 1]</text>\r\n",
       "<text text-anchor=\"middle\" x=\"1259\" y=\"-7.8\" font-family=\"Times New Roman,serif\" font-size=\"14.00\">class = 300만 관객</text>\r\n",
       "</g>\r\n",
       "<!-- 23&#45;&gt;25 -->\r\n",
       "<g id=\"edge25\" class=\"edge\"><title>23&#45;&gt;25</title>\r\n",
       "<path fill=\"none\" stroke=\"black\" d=\"M1205.03,-88.9485C1212.98,-79.892 1221.61,-70.0682 1229.59,-60.9875\"/>\r\n",
       "<polygon fill=\"black\" stroke=\"black\" points=\"1232.43,-63.0599 1236.4,-53.2367 1227.17,-58.4405 1232.43,-63.0599\"/>\r\n",
       "</g>\r\n",
       "<!-- 29 -->\r\n",
       "<g id=\"node30\" class=\"node\"><title>29</title>\r\n",
       "<polygon fill=\"#65b3eb\" stroke=\"black\" points=\"1671,-469 1523,-469 1523,-401 1671,-401 1671,-469\"/>\r\n",
       "<text text-anchor=\"middle\" x=\"1597\" y=\"-453.8\" font-family=\"Times New Roman,serif\" font-size=\"14.00\">X[2] &lt;= 1130.5</text>\r\n",
       "<text text-anchor=\"middle\" x=\"1597\" y=\"-438.8\" font-family=\"Times New Roman,serif\" font-size=\"14.00\">samples = 11</text>\r\n",
       "<text text-anchor=\"middle\" x=\"1597\" y=\"-423.8\" font-family=\"Times New Roman,serif\" font-size=\"14.00\">value = [0, 0, 0, 9, 2, 0]</text>\r\n",
       "<text text-anchor=\"middle\" x=\"1597\" y=\"-408.8\" font-family=\"Times New Roman,serif\" font-size=\"14.00\">class = 300만 관객</text>\r\n",
       "</g>\r\n",
       "<!-- 28&#45;&gt;29 -->\r\n",
       "<g id=\"edge29\" class=\"edge\"><title>28&#45;&gt;29</title>\r\n",
       "<path fill=\"none\" stroke=\"black\" d=\"M1597,-504.884C1597,-496.778 1597,-487.982 1597,-479.472\"/>\r\n",
       "<polygon fill=\"black\" stroke=\"black\" points=\"1600.5,-479.299 1597,-469.299 1593.5,-479.299 1600.5,-479.299\"/>\r\n",
       "</g>\r\n",
       "<!-- 32 -->\r\n",
       "<g id=\"node33\" class=\"node\"><title>32</title>\r\n",
       "<polygon fill=\"#d5bdf6\" stroke=\"black\" points=\"1920,-469 1772,-469 1772,-401 1920,-401 1920,-469\"/>\r\n",
       "<text text-anchor=\"middle\" x=\"1846\" y=\"-453.8\" font-family=\"Times New Roman,serif\" font-size=\"14.00\">X[1] &lt;= 3820928.0</text>\r\n",
       "<text text-anchor=\"middle\" x=\"1846\" y=\"-438.8\" font-family=\"Times New Roman,serif\" font-size=\"14.00\">samples = 14</text>\r\n",
       "<text text-anchor=\"middle\" x=\"1846\" y=\"-423.8\" font-family=\"Times New Roman,serif\" font-size=\"14.00\">value = [0, 0, 0, 1, 8, 5]</text>\r\n",
       "<text text-anchor=\"middle\" x=\"1846\" y=\"-408.8\" font-family=\"Times New Roman,serif\" font-size=\"14.00\">class = 500만 관객</text>\r\n",
       "</g>\r\n",
       "<!-- 28&#45;&gt;32 -->\r\n",
       "<g id=\"edge32\" class=\"edge\"><title>28&#45;&gt;32</title>\r\n",
       "<path fill=\"none\" stroke=\"black\" d=\"M1677.84,-504.884C1704.9,-493.8 1735.11,-481.426 1762.37,-470.257\"/>\r\n",
       "<polygon fill=\"black\" stroke=\"black\" points=\"1763.96,-473.391 1771.88,-466.361 1761.3,-466.913 1763.96,-473.391\"/>\r\n",
       "</g>\r\n",
       "<!-- 30 -->\r\n",
       "<g id=\"node31\" class=\"node\"><title>30</title>\r\n",
       "<polygon fill=\"#ffffff\" stroke=\"black\" points=\"1588,-357.5 1440,-357.5 1440,-304.5 1588,-304.5 1588,-357.5\"/>\r\n",
       "<text text-anchor=\"middle\" x=\"1514\" y=\"-342.3\" font-family=\"Times New Roman,serif\" font-size=\"14.00\">samples = 4</text>\r\n",
       "<text text-anchor=\"middle\" x=\"1514\" y=\"-327.3\" font-family=\"Times New Roman,serif\" font-size=\"14.00\">value = [0, 0, 0, 2, 2, 0]</text>\r\n",
       "<text text-anchor=\"middle\" x=\"1514\" y=\"-312.3\" font-family=\"Times New Roman,serif\" font-size=\"14.00\">class = 300만 관객</text>\r\n",
       "</g>\r\n",
       "<!-- 29&#45;&gt;30 -->\r\n",
       "<g id=\"edge30\" class=\"edge\"><title>29&#45;&gt;30</title>\r\n",
       "<path fill=\"none\" stroke=\"black\" d=\"M1570.05,-400.884C1560.83,-389.556 1550.52,-376.88 1541.28,-365.521\"/>\r\n",
       "<polygon fill=\"black\" stroke=\"black\" points=\"1543.79,-363.067 1534.77,-357.52 1538.36,-367.486 1543.79,-363.067\"/>\r\n",
       "</g>\r\n",
       "<!-- 31 -->\r\n",
       "<g id=\"node32\" class=\"node\"><title>31</title>\r\n",
       "<polygon fill=\"#399de5\" stroke=\"black\" points=\"1754,-357.5 1606,-357.5 1606,-304.5 1754,-304.5 1754,-357.5\"/>\r\n",
       "<text text-anchor=\"middle\" x=\"1680\" y=\"-342.3\" font-family=\"Times New Roman,serif\" font-size=\"14.00\">samples = 7</text>\r\n",
       "<text text-anchor=\"middle\" x=\"1680\" y=\"-327.3\" font-family=\"Times New Roman,serif\" font-size=\"14.00\">value = [0, 0, 0, 7, 0, 0]</text>\r\n",
       "<text text-anchor=\"middle\" x=\"1680\" y=\"-312.3\" font-family=\"Times New Roman,serif\" font-size=\"14.00\">class = 300만 관객</text>\r\n",
       "</g>\r\n",
       "<!-- 29&#45;&gt;31 -->\r\n",
       "<g id=\"edge31\" class=\"edge\"><title>29&#45;&gt;31</title>\r\n",
       "<path fill=\"none\" stroke=\"black\" d=\"M1623.95,-400.884C1633.17,-389.556 1643.48,-376.88 1652.72,-365.521\"/>\r\n",
       "<polygon fill=\"black\" stroke=\"black\" points=\"1655.64,-367.486 1659.23,-357.52 1650.21,-363.067 1655.64,-367.486\"/>\r\n",
       "</g>\r\n",
       "<!-- 33 -->\r\n",
       "<g id=\"node34\" class=\"node\"><title>33</title>\r\n",
       "<polygon fill=\"#965ae9\" stroke=\"black\" points=\"1920,-357.5 1772,-357.5 1772,-304.5 1920,-304.5 1920,-357.5\"/>\r\n",
       "<text text-anchor=\"middle\" x=\"1846\" y=\"-342.3\" font-family=\"Times New Roman,serif\" font-size=\"14.00\">samples = 7</text>\r\n",
       "<text text-anchor=\"middle\" x=\"1846\" y=\"-327.3\" font-family=\"Times New Roman,serif\" font-size=\"14.00\">value = [0, 0, 0, 1, 6, 0]</text>\r\n",
       "<text text-anchor=\"middle\" x=\"1846\" y=\"-312.3\" font-family=\"Times New Roman,serif\" font-size=\"14.00\">class = 500만 관객</text>\r\n",
       "</g>\r\n",
       "<!-- 32&#45;&gt;33 -->\r\n",
       "<g id=\"edge33\" class=\"edge\"><title>32&#45;&gt;33</title>\r\n",
       "<path fill=\"none\" stroke=\"black\" d=\"M1846,-400.884C1846,-390.326 1846,-378.597 1846,-367.854\"/>\r\n",
       "<polygon fill=\"black\" stroke=\"black\" points=\"1849.5,-367.52 1846,-357.52 1842.5,-367.52 1849.5,-367.52\"/>\r\n",
       "</g>\r\n",
       "<!-- 34 -->\r\n",
       "<g id=\"node35\" class=\"node\"><title>34</title>\r\n",
       "<polygon fill=\"#ef88c4\" stroke=\"black\" points=\"2086,-357.5 1938,-357.5 1938,-304.5 2086,-304.5 2086,-357.5\"/>\r\n",
       "<text text-anchor=\"middle\" x=\"2012\" y=\"-342.3\" font-family=\"Times New Roman,serif\" font-size=\"14.00\">samples = 7</text>\r\n",
       "<text text-anchor=\"middle\" x=\"2012\" y=\"-327.3\" font-family=\"Times New Roman,serif\" font-size=\"14.00\">value = [0, 0, 0, 0, 2, 5]</text>\r\n",
       "<text text-anchor=\"middle\" x=\"2012\" y=\"-312.3\" font-family=\"Times New Roman,serif\" font-size=\"14.00\">class = 1000만 관객</text>\r\n",
       "</g>\r\n",
       "<!-- 32&#45;&gt;34 -->\r\n",
       "<g id=\"edge34\" class=\"edge\"><title>32&#45;&gt;34</title>\r\n",
       "<path fill=\"none\" stroke=\"black\" d=\"M1899.9,-400.884C1919.76,-388.676 1942.18,-374.903 1961.71,-362.899\"/>\r\n",
       "<polygon fill=\"black\" stroke=\"black\" points=\"1963.78,-365.737 1970.47,-357.52 1960.12,-359.773 1963.78,-365.737\"/>\r\n",
       "</g>\r\n",
       "</g>\r\n",
       "</svg>\r\n"
      ],
      "text/plain": [
       "<graphviz.files.Source at 0x1f75a071fa0>"
      ]
     },
     "metadata": {},
     "output_type": "display_data"
    },
    {
     "data": {
      "text/plain": [
       "'tree.png'"
      ]
     },
     "execution_count": 128,
     "metadata": {},
     "output_type": "execute_result"
    }
   ],
   "source": [
    "import graphviz \n",
    "\n",
    "with open(\"tree.dot\" ,encoding=\"UTF-8\") as f:\n",
    "    dot_graph = f.read()\n",
    "display(graphviz.Source(dot_graph))\n",
    "\n",
    "graphviz.Source(dot_graph).render('tree', format=\"png\")"
   ]
  },
  {
   "cell_type": "code",
   "execution_count": 104,
   "id": "41a26b7d",
   "metadata": {},
   "outputs": [
    {
     "name": "stdout",
     "output_type": "stream",
     "text": [
      "특성 중요도\n",
      "[0.01635248 0.70675615 0.01951148 0.02682829 0.13795764 0.\n",
      " 0.01322627 0.01251987 0.         0.06684781 0.        ]\n"
     ]
    }
   ],
   "source": [
    "print(\"특성 중요도\")\n",
    "print(clf.feature_importances_)"
   ]
  },
  {
   "cell_type": "code",
   "execution_count": 105,
   "id": "f235cbf5",
   "metadata": {},
   "outputs": [],
   "source": [
    "shape=[' Daudience ', ' A1audience ', ' Dscreen ', ' A1screen ', ' A2screen ', ' Nationality ', ' Grade ', ' Season ', ' Month ', ' Actscore ', ' social distancing ']"
   ]
  },
  {
   "cell_type": "code",
   "execution_count": 106,
   "id": "e35df634",
   "metadata": {},
   "outputs": [],
   "source": [
    "data=dataset.keys().to_list()"
   ]
  },
  {
   "cell_type": "markdown",
   "id": "98922893",
   "metadata": {},
   "source": [
    "#### 변수의 중요도"
   ]
  },
  {
   "cell_type": "code",
   "execution_count": 107,
   "id": "15b3cc1b",
   "metadata": {},
   "outputs": [
    {
     "data": {
      "image/png": "[encoded data removed]",
      "text/plain": [
       "<Figure size 576x576 with 1 Axes>"
      ]
     },
     "metadata": {
      "needs_background": "light"
     },
     "output_type": "display_data"
    }
   ],
   "source": [
    "def plot_feature_importances_movie(model):\n",
    "    n_features = len(shape)\n",
    "    plt.barh(np.arange(n_features), model.feature_importances_,align='center')\n",
    "    plt.yticks(np.arange(n_features),shape)\n",
    "    plt.xlabel(\"Feature importance\")\n",
    "    plt.ylabel(\"Feature\")\n",
    "    plt.ylim(-1, n_features)\n",
    "    \n",
    "plt.figure(figsize=(8,8))\n",
    "plot_feature_importances_movie(clf)"
   ]
  },
  {
   "cell_type": "code",
   "execution_count": 108,
   "id": "f2d6f7c4",
   "metadata": {},
   "outputs": [
    {
     "data": {
      "text/plain": [
       "Text(0, 0.5, 'A2screen')"
      ]
     },
     "execution_count": 108,
     "metadata": {},
     "output_type": "execute_result"
    },
    {
     "data": {
      "image/png": "[encoded data removed]",
      "text/plain": [
       "<Figure size 432x288 with 1 Axes>"
      ]
     },
     "metadata": {
      "needs_background": "light"
     },
     "output_type": "display_data"
    }
   ],
   "source": [
    "plt.semilogy(dataset[' labels '],dataset[' A2screen '])\n",
    "plt.xlabel(\"box office\")\n",
    "plt.ylabel(\"A2screen\")"
   ]
  },
  {
   "cell_type": "code",
   "execution_count": 109,
   "id": "f3e7d76b",
   "metadata": {},
   "outputs": [
    {
     "data": {
      "text/plain": [
       "Text(0, 0.5, 'A1screen')"
      ]
     },
     "execution_count": 109,
     "metadata": {},
     "output_type": "execute_result"
    },
    {
     "data": {
      "image/png": "[encoded data removed]",
      "text/plain": [
       "<Figure size 432x288 with 1 Axes>"
      ]
     },
     "metadata": {
      "needs_background": "light"
     },
     "output_type": "display_data"
    }
   ],
   "source": [
    "plt.semilogy(dataset[' labels '],dataset[' A1screen '])\n",
    "plt.xlabel(\"box office\")\n",
    "plt.ylabel(\"A1screen\")"
   ]
  },
  {
   "cell_type": "code",
   "execution_count": 110,
   "id": "ff201925",
   "metadata": {},
   "outputs": [
    {
     "data": {
      "text/plain": [
       "Text(0, 0.5, 'Actscore')"
      ]
     },
     "execution_count": 110,
     "metadata": {},
     "output_type": "execute_result"
    },
    {
     "data": {
      "image/png": "[encoded data removed]",
      "text/plain": [
       "<Figure size 432x288 with 1 Axes>"
      ]
     },
     "metadata": {
      "needs_background": "light"
     },
     "output_type": "display_data"
    }
   ],
   "source": [
    "plt.semilogy(dataset[' labels '],dataset[' Actscore '])\n",
    "plt.xlabel(\"box office\")\n",
    "plt.ylabel(\"Actscore\")"
   ]
  }
 ],
 "metadata": {
  "kernelspec": {
   "display_name": "Python 3 (ipykernel)",
   "language": "python",
   "name": "python3"
  },
  "language_info": {
   "codemirror_mode": {
    "name": "ipython",
    "version": 3
   },
   "file_extension": ".py",
   "mimetype": "text/x-python",
   "name": "python",
   "nbconvert_exporter": "python",
   "pygments_lexer": "ipython3",
   "version": "3.9.7"
  }
 },
 "nbformat": 4,
 "nbformat_minor": 5
}
